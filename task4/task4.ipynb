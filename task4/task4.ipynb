{
 "cells": [
  {
   "cell_type": "markdown",
   "metadata": {
    "collapsed": true
   },
   "source": [
    "# 引入模块，读取数据\n",
    "# 构建计算图（构建网络模型）\n",
    "# 损失函数与优化器\n",
    "# 开始训练模型\n",
    "# 对训练的模型预测结果进行评估"
   ]
  },
  {
   "cell_type": "markdown",
   "metadata": {},
   "source": [
    "# 1.1 导包和设置随机种子"
   ]
  },
  {
   "cell_type": "code",
   "execution_count": 2,
   "metadata": {},
   "outputs": [],
   "source": [
    "import torchvision\n",
    "import torchvision.datasets as datasets #为了下一步加载数据\n",
    "import torch\n",
    "import torch.nn.functional as F\n",
    "\n",
    "import numpy as np \n",
    "import random #设置随机数\n",
    "\n",
    "USE_CUDA = torch.cuda.is_available() #GPU可用的标志位\n",
    "random.seed(1)\n",
    "np.random.seed(1)\n",
    "torch.manual_seed(1)  \n",
    "\n",
    "if USE_CUDA:\n",
    "    torch.cuda.manual_seed(1)\n"
   ]
  },
  {
   "cell_type": "markdown",
   "metadata": {},
   "source": [
    "# 1.2 加载数据和归一化"
   ]
  },
  {
   "cell_type": "code",
   "execution_count": null,
   "metadata": {},
   "outputs": [],
   "source": [
    "train_mnist = datasets.MNIST(root = './data', train = True, download = True) #训练集\n",
    "test_mnist = datasets.MNIST(root = './data', train = False, download = True) #测试集\n",
    "\n",
    "train_X, train_Y = train_mnist.data, train_mnist.targets\n",
    "test_X, test_Y = test_mnist.data, test_mnist.targets\n",
    "\n",
    "train_X = train_X.float()\n",
    "test_X = test_X.float()\n",
    "\n",
    "train_X = train_X / 255.0        #数据归一化\n",
    "test_X = test_X / 255.0 \n"
   ]
  },
  {
   "cell_type": "markdown",
   "metadata": {},
   "source": [
    "# 2. 构建神经网络"
   ]
  },
  {
   "cell_type": "code",
   "execution_count": 8,
   "metadata": {},
   "outputs": [],
   "source": [
    "dim_in = 28 * 28\n",
    "dim_hid = 128\n",
    "dim_out = 10\n",
    "\n",
    "class TwoLayerNet(torch.nn.Module):\n",
    "    def __init__(self, dim_in, dim_hid, dim_out):\n",
    "        super(TwoLayerNet, self).__init__()\n",
    "        # define the model architecture\n",
    "        self.fc1 = torch.nn.Linear(dim_in, dim_hid, bias=True)\n",
    "        self.fc2 = torch.nn.Linear(dim_hid, dim_out, bias=True)\n",
    "    \n",
    "    def forward(self, x):\n",
    "        x = x.view(x.size(0), -1)\n",
    "        x = self.fc1(x)\n",
    "        x = F.relu(x)\n",
    "        x = self.fc2(x)\n",
    "        return F.log_softmax(x, dim=1)\n",
    "\n",
    "# 提前定义模型\n",
    "model = TwoLayerNet(dim_in, dim_hid, dim_out)\n",
    "if USE_CUDA:\n",
    "    model = model.cuda()\n",
    "\n",
    "#提前定义loss函数和优化器\n",
    "loss_fun = torch.nn.NLLLoss(reduction='sum')\n",
    "eta = 1e-2\n",
    "optimizer = torch.optim.Adam(model.parameters(), lr=eta)\n",
    "\n"
   ]
  },
  {
   "cell_type": "markdown",
   "metadata": {},
   "source": [
    "# 3.训练模型"
   ]
  },
  {
   "cell_type": "code",
   "execution_count": 9,
   "metadata": {},
   "outputs": [],
   "source": [
    "\n",
    "for i in range(1000):\n",
    "  #Forward pass\n",
    "  y_pred = model(train_X)\n",
    "  \n",
    "  #Loss\n",
    "  loss = loss_fun(y_pred, train_Y)\n",
    "  print(i, loss.item())\n",
    "\n",
    "  optimizer.zero_grad()\n",
    "  # Backward pass\n",
    "  loss.backward()\n",
    "  \n",
    "  # update model parameters\n",
    "  optimizer.step()"
   ]
  },
  {
   "cell_type": "markdown",
   "metadata": {},
   "source": [
    "# 4.GPU加速训练"
   ]
  },
  {
   "cell_type": "code",
   "execution_count": null,
   "metadata": {},
   "outputs": [],
   "source": [
    "if USE_CUDA:\n",
    "  train_X = train_X.cuda()\n",
    "  train_Y = train_Y.cuda()\n",
    "  test_X = test_X.cuda()\n",
    "  test_Y = test_Y.cuda()\n",
    "\n",
    "if USE_CUDA:\n",
    "    model = model.cuda()\n",
    "\n",
    "for i in range(1000):\n",
    "  #Forward pass\n",
    "  y_pred = model(train_X)\n",
    "  \n",
    "  #Loss\n",
    "  loss = loss_fun(y_pred, train_Y)\n",
    "  print(i, loss.item())\n",
    "\n",
    "  optimizer.zero_grad()\n",
    "  # Backward pass\n",
    "  loss.backward()\n",
    "  \n",
    "  # update model parameters\n",
    "  optimizer.step()    \n"
   ]
  },
  {
   "cell_type": "code",
   "execution_count": 9,
   "metadata": {},
   "outputs": [],
   "source": [
    "# 5.模型评估"
   ]
  },
  {
   "cell_type": "code",
   "execution_count": null,
   "metadata": {},
   "outputs": [],
   "source": [
    "y_pred = model(test_X)\n",
    "pred = y_pred.argmax(dim=1, keepdim=True) # get the index of the max log-probability\n",
    "correct = pred.eq(test_Y.view_as(pred)).sum().item() \n",
    "acc = correct / test_X.shape[0]\n",
    "print('准确率为{}%'.format(acc * 100))\n"
   ]
  }
 ],
 "metadata": {
  "kernelspec": {
   "display_name": "Python 2",
   "language": "python",
   "name": "python2"
  },
  "language_info": {
   "codemirror_mode": {
    "name": "ipython",
    "version": 2
   },
   "file_extension": ".py",
   "mimetype": "text/x-python",
   "name": "python",
   "nbconvert_exporter": "python",
   "pygments_lexer": "ipython2",
   "version": "2.7.6"
  }
 },
 "nbformat": 4,
 "nbformat_minor": 0
}
